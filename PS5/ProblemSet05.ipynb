{
 "cells": [
  {
   "cell_type": "markdown",
   "metadata": {
    "course": "Comp521F19",
    "problemset": 5,
    "section": "header"
   },
   "source": [
    "<div style=\"text-align: center;\">\n",
    "<h1>The University of North Carolina at Chapel Hill</h1>\n",
    "<h1>Comp 521 Files and Databases - Fall 2019</h1>\n",
    "<h1 style=\"font-size: 250%;\">Problem Set #5</h1>\n",
    "<h1 style=\"font-size: 200%;\">Version 1.1</h1>\n",
    "<h1>Issued Thursday 11/07/2019; Due Thursday 11/21/2019</h1>\n",
    "</div>\n",
    "\n",
    "**Homework Information:** The answer cells in this notebook contain metadata that enable it to be automatically parsed. Thus, you must enter your answers *only* into the cells provided. Do not delete any answer cell and/or add a new one to replace it. If you do so by accident, download a new copy of the problem set's notebook and transfer your answers into it. You can introduce new 'coding' cells in an effort to test approaches to problems, however, these introduced cells will not be considered when grading.\n",
    "\n",
    "Finally, some of the problems are probably too long to be done the night before the due date, so plan accordingly. Late problem sets will be accepted, but your lowest problem-set grade will be dropped. Feel free to get help from others, but the work you submit in should be your own."
   ]
  },
  {
   "cell_type": "code",
   "execution_count": 1,
   "metadata": {
    "collapsed": true,
    "section": "signature"
   },
   "outputs": [],
   "source": [
    "# Do not make any edits in this cell!\n",
    "class Student:\n",
    "    first = \"Ethan\"\n",
    "    last = \"Bateman\"\n",
    "    onyen = \"jetfire\"\n",
    "    pid = \"730207448\""
   ]
  },
  {
   "cell_type": "markdown",
   "metadata": {
    "section": "setup"
   },
   "source": [
    "Lee Hart has decided to decompose the *Game* table in the NFL roster database into a *Score* table. It represents the scores of a *Game* using separate rows for the home and visiting teams. Each row has a unique game identifier, *gid* and a *home* attribute which contains either an 'H' or a 'V' indicating whether the row is for the home or visiting team respectively. It also includes attributes for the team identifier, *tid*, *season*, *week*, and *date*. It also includes an *outcome* attribute which can be one of 'W' for a win, 'L' for a loss, 'T' for a tie, and '' for an unplayed game. Lastly, each row contains a integer *points* attribute indicating the final number of points scored by the team in the game. A sample of the *Score* table is given below.\n",
    "\n",
    "<table style=\"border-collapse: collapse; border: 1px solid black;\"><tbody>\n",
    "<tr style=\"border-collapse: collapse; border: 1px solid black; background: #c0efff;\">\n",
    "    <th colspan=\"8\" style=\"text-align:center;\">Score</th></tr>\n",
    "<tr style=\"border-collapse: collapse; border: 1px solid black;\">\n",
    "    <td style=\"border-collapse: collapse; border: 1px solid black;\"><u>gid</u></td>\n",
    "    <td style=\"border-collapse: collapse; border: 1px solid black;\"><u>home</u></td>\n",
    "    <td style=\"border-collapse: collapse; border: 1px solid black;\">tid</td>\n",
    "    <td style=\"border-collapse: collapse; border: 1px solid black;\">season</td>\n",
    "    <td style=\"border-collapse: collapse; border: 1px solid black;\">week</td>\n",
    "    <td style=\"border-collapse: collapse; border: 1px solid black;\">date</td>\n",
    "    <td style=\"border-collapse: collapse; border: 1px solid black;\">outcome</td>\n",
    "    <td style=\"border-collapse: collapse; border: 1px solid black;\">points</td>\n",
    "</tr>\n",
    "<tr>\n",
    "    <td style=\"border-collapse: collapse; border: 1px solid black;\">...</td>\n",
    "    <td style=\"border-collapse: collapse; border: 1px solid black;\">...</td>\n",
    "    <td style=\"border-collapse: collapse; border: 1px solid black;\">...</td>\n",
    "    <td style=\"border-collapse: collapse; border: 1px solid black;\">...</td>\n",
    "    <td style=\"border-collapse: collapse; border: 1px solid black;\">...</td>\n",
    "    <td style=\"border-collapse: collapse; border: 1px solid black;\">...</td>\n",
    "    <td style=\"border-collapse: collapse; border: 1px solid black;\">...</td>\n",
    "    <td style=\"border-collapse: collapse; border: 1px solid black;\">...</td>\n",
    "</tr>\n",
    "<tr style=\"border-collapse: collapse; border: 1px solid black;\">\n",
    "    <td style=\"border-collapse: collapse; border: 1px solid black;\">31200</td>\n",
    "    <td style=\"border-collapse: collapse; border: 1px solid black;\">H</td>\n",
    "    <td style=\"border-collapse: collapse; border: 1px solid black;\">1014</td>\n",
    "    <td style=\"border-collapse: collapse; border: 1px solid black;\">2018</td>\n",
    "    <td style=\"border-collapse: collapse; border: 1px solid black;\">1</td>\n",
    "    <td style=\"border-collapse: collapse; border: 1px solid black;\">2018-09-06</td>\n",
    "    <td style=\"border-collapse: collapse; border: 1px solid black;\">W</td>\n",
    "    <td style=\"border-collapse: collapse; border: 1px solid black;\">18</td>\n",
    "</tr>\n",
    "<tr style=\"border-collapse: collapse; border: 1px solid black;\">\n",
    "    <td style=\"border-collapse: collapse; border: 1px solid black;\">31200</td>\n",
    "    <td style=\"border-collapse: collapse; border: 1px solid black;\">V</td>\n",
    "    <td style=\"border-collapse: collapse; border: 1px solid black;\">1015</td>\n",
    "    <td style=\"border-collapse: collapse; border: 1px solid black;\">2018</td>\n",
    "    <td style=\"border-collapse: collapse; border: 1px solid black;\">1</td>\n",
    "    <td style=\"border-collapse: collapse; border: 1px solid black;\">2018-09-06</td>\n",
    "    <td style=\"border-collapse: collapse; border: 1px solid black;\">L</td>\n",
    "    <td style=\"border-collapse: collapse; border: 1px solid black;\">12</td>\n",
    "</tr>\n",
    "<tr style=\"border-collapse: collapse; border: 1px solid black;\">\n",
    "    <td style=\"border-collapse: collapse; border: 1px solid black;\">31201</td>\n",
    "    <td style=\"border-collapse: collapse; border: 1px solid black;\">H</td>\n",
    "    <td style=\"border-collapse: collapse; border: 1px solid black;\">1004</td>\n",
    "    <td style=\"border-collapse: collapse; border: 1px solid black;\">2018</td>\n",
    "    <td style=\"border-collapse: collapse; border: 1px solid black;\">1</td>\n",
    "    <td style=\"border-collapse: collapse; border: 1px solid black;\">2018-09-09</td>\n",
    "    <td style=\"border-collapse: collapse; border: 1px solid black;\">W</td>\n",
    "    <td style=\"border-collapse: collapse; border: 1px solid black;\">27</td>\n",
    "</tr>\n",
    "<tr style=\"border-collapse: collapse; border: 1px solid black;\">\n",
    "    <td style=\"border-collapse: collapse; border: 1px solid black;\">31201</td>\n",
    "    <td style=\"border-collapse: collapse; border: 1px solid black;\">V</td>\n",
    "    <td style=\"border-collapse: collapse; border: 1px solid black;\">1029</td>\n",
    "    <td style=\"border-collapse: collapse; border: 1px solid black;\">2018</td>\n",
    "    <td style=\"border-collapse: collapse; border: 1px solid black;\">1</td>\n",
    "    <td style=\"border-collapse: collapse; border: 1px solid black;\">2018-09-09</td>\n",
    "    <td style=\"border-collapse: collapse; border: 1px solid black;\">L</td>\n",
    "    <td style=\"border-collapse: collapse; border: 1px solid black;\">24</td>\n",
    "</tr>\n",
    "<tr style=\"border-collapse: collapse; border: 1px solid black;\">\n",
    "    <td style=\"border-collapse: collapse; border: 1px solid black;\">31202</td>\n",
    "    <td style=\"border-collapse: collapse; border: 1px solid black;\">H</td>\n",
    "    <td style=\"border-collapse: collapse; border: 1px solid black;\">1005</td>\n",
    "    <td style=\"border-collapse: collapse; border: 1px solid black;\">2018</td>\n",
    "    <td style=\"border-collapse: collapse; border: 1px solid black;\">1</td>\n",
    "    <td style=\"border-collapse: collapse; border: 1px solid black;\">2018-09-09</td>\n",
    "    <td style=\"border-collapse: collapse; border: 1px solid black;\">T</td>\n",
    "    <td style=\"border-collapse: collapse; border: 1px solid black;\">21</td>\n",
    "</tr>\n",
    "<tr style=\"border-collapse: collapse; border: 1px solid black;\">\n",
    "    <td style=\"border-collapse: collapse; border: 1px solid black;\">31202</td>\n",
    "    <td style=\"border-collapse: collapse; border: 1px solid black;\">V</td>\n",
    "    <td style=\"border-collapse: collapse; border: 1px solid black;\">1030</td>\n",
    "    <td style=\"border-collapse: collapse; border: 1px solid black;\">2018</td>\n",
    "    <td style=\"border-collapse: collapse; border: 1px solid black;\">1</td>\n",
    "    <td style=\"border-collapse: collapse; border: 1px solid black;\">2018-09-09</td>\n",
    "    <td style=\"border-collapse: collapse; border: 1px solid black;\">T</td>\n",
    "    <td style=\"border-collapse: collapse; border: 1px solid black;\">21</td>\n",
    "</tr>\n",
    "<tr style=\"border-collapse: collapse; border: 1px solid black;\">\n",
    "    <td style=\"border-collapse: collapse; border: 1px solid black;\">31203</td>\n",
    "    <td style=\"border-collapse: collapse; border: 1px solid black;\">H</td>\n",
    "    <td style=\"border-collapse: collapse; border: 1px solid black;\">1007</td>\n",
    "    <td style=\"border-collapse: collapse; border: 1px solid black;\">2018</td>\n",
    "    <td style=\"border-collapse: collapse; border: 1px solid black;\">1</td>\n",
    "    <td style=\"border-collapse: collapse; border: 1px solid black;\">2018-09-09</td>\n",
    "    <td style=\"border-collapse: collapse; border: 1px solid black;\">L</td>\n",
    "    <td style=\"border-collapse: collapse; border: 1px solid black;\">6</td>\n",
    "</tr>\n",
    "<tr style=\"border-collapse: collapse; border: 1px solid black;\">\n",
    "    <td style=\"border-collapse: collapse; border: 1px solid black;\">31203</td>\n",
    "    <td style=\"border-collapse: collapse; border: 1px solid black;\">V</td>\n",
    "    <td style=\"border-collapse: collapse; border: 1px solid black;\">1027</td>\n",
    "    <td style=\"border-collapse: collapse; border: 1px solid black;\">2018</td>\n",
    "    <td style=\"border-collapse: collapse; border: 1px solid black;\">1</td>\n",
    "    <td style=\"border-collapse: collapse; border: 1px solid black;\">2018-09-09</td>\n",
    "    <td style=\"border-collapse: collapse; border: 1px solid black;\">W</td>\n",
    "    <td style=\"border-collapse: collapse; border: 1px solid black;\">24</td>\n",
    "</tr>\n",
    "    <tr>\n",
    "    <td style=\"border-collapse: collapse; border: 1px solid black;\">...</td>\n",
    "    <td style=\"border-collapse: collapse; border: 1px solid black;\">...</td>\n",
    "    <td style=\"border-collapse: collapse; border: 1px solid black;\">...</td>\n",
    "    <td style=\"border-collapse: collapse; border: 1px solid black;\">...</td>\n",
    "    <td style=\"border-collapse: collapse; border: 1px solid black;\">...</td>\n",
    "    <td style=\"border-collapse: collapse; border: 1px solid black;\">...</td>\n",
    "    <td style=\"border-collapse: collapse; border: 1px solid black;\">...</td>\n",
    "    <td style=\"border-collapse: collapse; border: 1px solid black;\">...</td>\n",
    "</tr>\n",
    "</tbody></table>\n",
    "\n",
    "Lee also provided the following code fragment to create a *Score* table from the exisitng *Game* table.\n"
   ]
  },
  {
   "cell_type": "code",
   "execution_count": 1,
   "metadata": {},
   "outputs": [],
   "source": [
    "import sqlite3\n",
    "db = sqlite3.connect(\"NFL.db\")\n",
    "db.row_factory = sqlite3.Row\n",
    "cursor = db.cursor()\n",
    "\n",
    "cursor.execute(\"\"\"CREATE TABLE IF NOT EXISTS Score (\n",
    "    gid     INTEGER,\n",
    "    home    TEXT,\n",
    "    tid     INTEGER,\n",
    "    season  INTEGER,\n",
    "    week    TEXT,\n",
    "    date    DATE,\n",
    "    outcome TEXT,\n",
    "    points  INTEGER,\n",
    "    FOREIGN KEY(tid) REFERENCES Team(tid),\n",
    "    PRIMARY KEY(gid,home))\"\"\")\n",
    "\n",
    "for year in range(1979,2020):\n",
    "    cursor.execute(\"SELECT * FROM Game WHERE SEASON=? ORDER BY date,htid\", (year,))\n",
    "    n = 0\n",
    "    gameRows = cursor.fetchall()\n",
    "    for row in gameRows:\n",
    "        gameid = (row['season']-1940)*400 + n\n",
    "        hwin = 'W' if (row['hscore'] > row['vscore']) else 'L'\n",
    "        vwin = 'W' if (row['vscore'] > row['hscore']) else 'L'\n",
    "        if (hwin == vwin):\n",
    "            if (row['hscore'] == 0) and (row['season'] == 2019):\n",
    "                hwin, vwin = '', ''\n",
    "            else:\n",
    "                hwin, vwin = 'T', 'T'\n",
    "        home = [gameid, 'H', row['htid'], row['season'], row['week'], row['date'], hwin, row['hscore']]\n",
    "        away = [gameid, 'V', row['vtid'], row['season'], row['week'], row['date'], vwin, row['vscore']]\n",
    "        cursor.execute(\"INSERT INTO Score VALUES(?,?,?,?,?,?,?,?)\", tuple(home))\n",
    "        cursor.execute(\"INSERT INTO Score VALUES(?,?,?,?,?,?,?,?)\", tuple(away))\n",
    "        n += 1\n",
    "db.commit()\n",
    "db.close()\n"
   ]
  },
  {
   "cell_type": "markdown",
   "metadata": {
    "case": 0,
    "key": "shared",
    "number": 1,
    "section": "problem"
   },
   "source": [
    "---\n",
    "**Problem 1:** The motivation for Lee's new Score table is to better facilitate computing the win-loss-tie records of teams in a given season. Give a SQL query that generates the win-loss-tie for all teams by their number of wins in decreasing order for the 2016 season."
   ]
  },
  {
   "cell_type": "raw",
   "metadata": {
    "case": 0,
    "key": "shared",
    "number": 1,
    "section": "answer"
   },
   "source": [
    "SELECT * \n",
    "FROM (SELECT mascot, count(*) as wins FROM Score, team WHERE team.tid = score.tid and season = 2016 and outcome = 'L' GROUP BY score.tid, outcome) LOSS\n",
    "INNER JOIN (\n",
    "(SELECT mascot, count(*) as wins FROM Score, team WHERE team.tid = score.tid and season = 2016 and outcome = 'W' GROUP BY score.tid, outcome) WIN \n",
    "               left JOIN (SELECT mascot, count(*) as loses FROM Score, team WHERE team.tid = score.tid and season = 2016 and outcome = 'T' GROUP BY score.tid, outcome) TIE\n",
    "               ON WIN.mascot=TIE.mascot) WINTIE\n",
    "               ON WINTIE.mascot = LOSS.mascot"
   ]
  },
  {
   "cell_type": "markdown",
   "metadata": {
    "case": 1,
    "key": "shared",
    "number": 2,
    "section": "problem"
   },
   "source": [
    "---\n",
    "**Problem 2:** Lee has also suggested that the original *Game* can be generated as a view from his *Score* table. Give a SQL command to construct this view."
   ]
  },
  {
   "cell_type": "raw",
   "metadata": {
    "case": 1,
    "key": "shared",
    "number": 2,
    "section": "answer"
   },
   "source": [
    "//no \"notes\" column available\n",
    "CREATE VIEW GameCopy AS\n",
    "SELECT  season, week, date, vtid, vscore, htid, hscore\n",
    "FROM (Select gid, tid as htid, points as hscore FROM score WHERE home = 'H') A\n",
    "LEFT JOIN\n",
    "(Select gid, season, week, date, tid as vtid, points as vscore FROM score WHERE home = 'V') B\n",
    "ON A.gid = B.gid"
   ]
  },
  {
   "cell_type": "markdown",
   "metadata": {
    "case": 2,
    "key": "shared",
    "number": 3,
    "section": "problem"
   },
   "source": [
    "---\n",
    "**Problem 3:** The following Functional Dependancies (FDs) also apply to the *Score* table's attributes G,H,T,S,W,D,O, which represent the attributes *gid*, *home*, *tid*, *season*, *week*, *date*, *outcome*, and *points* respectively.\n",
    "\n",
    "<p style=\"margin-left:200px;\">GH &rarr; TSWDOP<br>\n",
    "SD &rarr; W<br>\n",
    "TSW &rarr; GH<br>\n",
    "D &rarr; SW</p>\n",
    "\n",
    "Does TD &rarr; G appear in the transitive closure of the dependencies? If so, show its derivation using the given FDs."
   ]
  },
  {
   "cell_type": "raw",
   "metadata": {
    "case": 2,
    "key": "shared",
    "number": 3,
    "section": "answer"
   },
   "source": [
    "If D -> SW then TD -> TSW (Augmentation)\n",
    "If TD -> TSW && TSW -> GH then TD -> GH (Transitivity)\n",
    "If TD -> GH then TD -> G && TD -> H (Decomposition)\n",
    "Therefore, TD -> G"
   ]
  },
  {
   "cell_type": "markdown",
   "metadata": {
    "case": 3,
    "key": "shared",
    "number": 4,
    "section": "problem"
   },
   "source": [
    "---\n",
    "**Problem 4:** Likewise does SW &rarr; D? If so, show its derivation using the given FDs."
   ]
  },
  {
   "cell_type": "raw",
   "metadata": {
    "case": 3,
    "key": "shared",
    "number": 4,
    "section": "answer"
   },
   "source": [
    "No, SW !-> D"
   ]
  },
  {
   "cell_type": "markdown",
   "metadata": {
    "case": 4,
    "key": "shared",
    "number": 5,
    "section": "problem"
   },
   "source": [
    "---\n",
    "**Problem 5:** Based on the given FDs is *Score* in 3NF? Suggest a decompostion of *Score* that achieves BCNF."
   ]
  },
  {
   "cell_type": "raw",
   "metadata": {
    "case": 4,
    "key": "shared",
    "number": 5,
    "section": "answer"
   },
   "source": [
    "Score is no in 3rd normal form, as date, season and week has a partial dependency on gid. To acheieve BCNF we need to remove the partial dependencies. We can do this by putting season, week, and date into their own game table."
   ]
  },
  {
   "cell_type": "markdown",
   "metadata": {
    "case": 5,
    "key": "shared",
    "number": 6,
    "section": "problem"
   },
   "source": [
    "---\n",
    "**Problem 6:** Which of the tables *Game* or *Score* has more redundancy that might lead to update anomalies?"
   ]
  },
  {
   "cell_type": "raw",
   "metadata": {
    "case": 5,
    "key": "shared",
    "number": 6,
    "section": "answer"
   },
   "source": [
    "Score has more redundancy. There are 2 instances of season, week and date for each game. This could lead to mismatchig values relating to the same game."
   ]
  },
  {
   "cell_type": "markdown",
   "metadata": {
    "case": 6,
    "key": "shared",
    "number": 7,
    "section": "problem"
   },
   "source": [
    "---\n",
    "**Problem 7:** There are certain disadvantages of the *Score* table. In particular, there are many possible anomalies, such as each *gid* must have corresponding rows with *home* set to 'H' and 'V'. Also, the setting of *outcome* should be consistent with the *points* attribute of the two rows with the same *gid*. Explain how you might enforce integrity checks on the *Score* table?"
   ]
  },
  {
   "cell_type": "raw",
   "metadata": {
    "case": 6,
    "key": "shared",
    "number": 7,
    "section": "answer"
   },
   "source": [
    "To check for the home column, I would change the value types to boolean so that only true and false were possible inputs, then I would set the primary key to 'gid' and 'home' with a unique constraint to ensure there is only one home and visiting team per game. As for maintaining integrity of the outcome column, this could be done by removing the column altogether and generating the column from the points columns when selecting."
   ]
  },
  {
   "cell_type": "markdown",
   "metadata": {},
   "source": [
    "Click [here to submit](http://csbio.unc.edu/mcmillan/index.py?run=PS.upload) your completed problem set.\n",
    "\n",
    "You can submit it as many times as you would like, but only the last submitted version will be graded. If the last submission was after the due date the final score will be reduced accordingly. "
   ]
  }
 ],
 "metadata": {
  "kernelspec": {
   "display_name": "Python 3",
   "language": "python",
   "name": "python3"
  },
  "language_info": {
   "codemirror_mode": {
    "name": "ipython",
    "version": 3
   },
   "file_extension": ".py",
   "mimetype": "text/x-python",
   "name": "python",
   "nbconvert_exporter": "python",
   "pygments_lexer": "ipython3",
   "version": "3.6.8"
  }
 },
 "nbformat": 4,
 "nbformat_minor": 1
}
